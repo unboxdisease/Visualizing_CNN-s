{
 "cells": [
  {
   "cell_type": "code",
   "execution_count": 1,
   "metadata": {
    "colab": {
     "base_uri": "https://localhost:8080/"
    },
    "executionInfo": {
     "elapsed": 30828,
     "status": "ok",
     "timestamp": 1638838325426,
     "user": {
      "displayName": "Tathagato Roy",
      "photoUrl": "https://lh3.googleusercontent.com/a/default-user=s64",
      "userId": "06999756730187012596"
     },
     "user_tz": -330
    },
    "id": "E6X3KtzaKoPB",
    "outputId": "05484c25-9ab2-4d4e-c529-4ef4868df7e1"
   },
   "outputs": [
    {
     "name": "stdout",
     "output_type": "stream",
     "text": [
      "Mounted at /content/drive\n"
     ]
    }
   ],
   "source": [
    "from google.colab import drive\n",
    "drive.mount('/content/drive')"
   ]
  },
  {
   "cell_type": "code",
   "execution_count": 2,
   "metadata": {
    "colab": {
     "base_uri": "https://localhost:8080/"
    },
    "executionInfo": {
     "elapsed": 106999,
     "status": "ok",
     "timestamp": 1638838432413,
     "user": {
      "displayName": "Tathagato Roy",
      "photoUrl": "https://lh3.googleusercontent.com/a/default-user=s64",
      "userId": "06999756730187012596"
     },
     "user_tz": -330
    },
    "id": "smcc3J8CLCQg",
    "outputId": "94b6a1b9-4667-45eb-e94c-7262fe3a345f"
   },
   "outputs": [
    {
     "name": "stdout",
     "output_type": "stream",
     "text": [
      "Looking in links: https://download.pytorch.org/whl/torch_stable.html\n",
      "Collecting torch==1.2.0+cu92\n",
      "  Downloading https://download.pytorch.org/whl/cu92/torch-1.2.0%2Bcu92-cp37-cp37m-manylinux1_x86_64.whl (663.1 MB)\n",
      "\u001b[K     |████████████████████████████████| 663.1 MB 1.8 kB/s \n",
      "\u001b[?25hCollecting torchvision==0.4.0+cu92\n",
      "  Downloading https://download.pytorch.org/whl/cu92/torchvision-0.4.0%2Bcu92-cp37-cp37m-manylinux1_x86_64.whl (8.8 MB)\n",
      "\u001b[K     |████████████████████████████████| 8.8 MB 61.5 MB/s \n",
      "\u001b[?25hRequirement already satisfied: numpy in /usr/local/lib/python3.7/dist-packages (from torch==1.2.0+cu92) (1.19.5)\n",
      "Requirement already satisfied: pillow>=4.1.1 in /usr/local/lib/python3.7/dist-packages (from torchvision==0.4.0+cu92) (7.1.2)\n",
      "Requirement already satisfied: six in /usr/local/lib/python3.7/dist-packages (from torchvision==0.4.0+cu92) (1.15.0)\n",
      "Installing collected packages: torch, torchvision\n",
      "  Attempting uninstall: torch\n",
      "    Found existing installation: torch 1.10.0+cu111\n",
      "    Uninstalling torch-1.10.0+cu111:\n",
      "      Successfully uninstalled torch-1.10.0+cu111\n",
      "  Attempting uninstall: torchvision\n",
      "    Found existing installation: torchvision 0.11.1+cu111\n",
      "    Uninstalling torchvision-0.11.1+cu111:\n",
      "      Successfully uninstalled torchvision-0.11.1+cu111\n",
      "\u001b[31mERROR: pip's dependency resolver does not currently take into account all the packages that are installed. This behaviour is the source of the following dependency conflicts.\n",
      "torchtext 0.11.0 requires torch==1.10.0, but you have torch 1.2.0+cu92 which is incompatible.\n",
      "torchaudio 0.10.0+cu111 requires torch==1.10.0, but you have torch 1.2.0+cu92 which is incompatible.\u001b[0m\n",
      "Successfully installed torch-1.2.0+cu92 torchvision-0.4.0+cu92\n"
     ]
    }
   ],
   "source": [
    "''' install the desired pytorch version '''\n",
    "!pip3 install torch==1.2.0+cu92 torchvision==0.4.0+cu92 -f https://download.pytorch.org/whl/torch_stable.html"
   ]
  },
  {
   "cell_type": "code",
   "execution_count": 3,
   "metadata": {
    "executionInfo": {
     "elapsed": 1286,
     "status": "ok",
     "timestamp": 1638839059273,
     "user": {
      "displayName": "Tathagato Roy",
      "photoUrl": "https://lh3.googleusercontent.com/a/default-user=s64",
      "userId": "06999756730187012596"
     },
     "user_tz": -330
    },
    "id": "1Wn6jM2_LWax"
   },
   "outputs": [],
   "source": [
    "''' importing the neccessary libraries '''\n",
    "import torch\n",
    "import torch.nn as nn\n",
    "import torch.nn.functional as F\n",
    "import torchvision\n",
    "import torchvision.transforms as transforms\n",
    "import numpy as np\n",
    "import cv2\n",
    "import matplotlib.pyplot as plt\n",
    "\n",
    "from collections import OrderedDict\n",
    "\n",
    "import pdb\n",
    "from math import sqrt, ceil\n",
    "\n",
    "from torch.autograd import Variable\n",
    "\n",
    "from PIL import Image\n",
    "\n",
    "from functools import partial\n",
    "import sys\n",
    "\n",
    "import cv2\n"
   ]
  },
  {
   "cell_type": "code",
   "execution_count": 53,
   "metadata": {
    "colab": {
     "base_uri": "https://localhost:8080/"
    },
    "executionInfo": {
     "elapsed": 2253,
     "status": "ok",
     "timestamp": 1638842269771,
     "user": {
      "displayName": "Tathagato Roy",
      "photoUrl": "https://lh3.googleusercontent.com/a/default-user=s64",
      "userId": "06999756730187012596"
     },
     "user_tz": -330
    },
    "id": "imwlO-ZANC4E",
    "outputId": "04ab5ddc-ab85-45d2-82b9-a88b58279aa3"
   },
   "outputs": [
    {
     "name": "stdout",
     "output_type": "stream",
     "text": [
      "device: cuda\n",
      "Files already downloaded and verified\n",
      "Files already downloaded and verified\n",
      "training dataset size: 50000\n",
      "test dataset size: 10000\n",
      "50000\n",
      "45000\n",
      "45000\n",
      "45024\n",
      "5024\n",
      "10016\n"
     ]
    }
   ],
   "source": [
    "# On Google Colab: Go to \"Runtime\" > \"Change runtime type\" > Select \"GPU\"\n",
    "device = 'cuda' if torch.cuda.is_available() else 'cpu'\n",
    "print(\"device:\", device)\n",
    "batch_size = 32\n",
    "transform = transforms.Compose(\n",
    "    [transforms.ToTensor(),\n",
    "     transforms.Normalize((0.4914, 0.4822, 0.4465), (0.2023, 0.1994, 0.2010))])\n",
    "\n",
    "train_dataset = torchvision.datasets.CIFAR10(root='data', download=True, train=True, transform=transform)\n",
    "test_dataset = torchvision.datasets.CIFAR10(root='data', download=True, train=False, transform=transform)\n",
    "\n",
    "print(\"training dataset size:\", len(train_dataset))\n",
    "print(\"test dataset size:\", len(test_dataset))\n",
    "\n",
    "# portion a part of the training dataset for validation\n",
    "# use 90% of the training dataset for training and the rest for validation\n",
    "# use `torch.utils.data.random_split`\n",
    "print(len(train_dataset))\n",
    "train_size = int(0.9*len(train_dataset))\n",
    "valid_size = int(0.1*len(train_dataset)) \n",
    "print(train_size)\n",
    "train_dataset, valid_dataset = torch.utils.data.random_split(train_dataset, [train_size, valid_size])\n",
    "train_size = len(train_dataset)\n",
    "valid_size = len(valid_dataset)\n",
    "print(len(train_dataset))\n",
    "\n",
    "\n",
    "train_dataloader = torch.utils.data.DataLoader(train_dataset, batch_size=batch_size,\n",
    "                                          shuffle=False, num_workers=2)\n",
    "valid_dataloader = torch.utils.data.DataLoader(valid_dataset, batch_size=batch_size,\n",
    "                                          shuffle=True, num_workers=2)\n",
    "test_dataloader = torch.utils.data.DataLoader(test_dataset, batch_size=batch_size,\n",
    "                                         shuffle=False, num_workers=2)\n",
    "print(len(train_dataloader)*32)\n",
    "print(len(valid_dataloader)*32)\n",
    "print(len(test_dataloader)*32)"
   ]
  },
  {
   "cell_type": "code",
   "execution_count": 7,
   "metadata": {
    "executionInfo": {
     "elapsed": 422,
     "status": "ok",
     "timestamp": 1638839082744,
     "user": {
      "displayName": "Tathagato Roy",
      "photoUrl": "https://lh3.googleusercontent.com/a/default-user=s64",
      "userId": "06999756730187012596"
     },
     "user_tz": -330
    },
    "id": "MJhD_wPOnCaM"
   },
   "outputs": [],
   "source": [
    "#input 224,224,3 image return after unormaliz\n",
    "#(0.4914, 0.4822, 0.4465), (0.2023, 0.1994, 0.2010) \n",
    "    \n",
    "def unormalize(im):\n",
    "  r = im[:,:,0] * 0.2023 + 0.4914\n",
    "  g = im[:,:,1] * 0.1994 + 0.4822\n",
    "  b = im[:,:,2] * 0.2010 + 0.4465\n",
    "  new_im = np.zeros(im.shape)\n",
    "  new_im[:,:,0] = r\n",
    "  new_im[:,:,1] = g\n",
    "  new_im[:,:,2] = b\n",
    "  return new_im"
   ]
  },
  {
   "cell_type": "code",
   "execution_count": 26,
   "metadata": {
    "colab": {
     "base_uri": "https://localhost:8080/",
     "height": 334
    },
    "executionInfo": {
     "elapsed": 531,
     "status": "ok",
     "timestamp": 1638840843565,
     "user": {
      "displayName": "Tathagato Roy",
      "photoUrl": "https://lh3.googleusercontent.com/a/default-user=s64",
      "userId": "06999756730187012596"
     },
     "user_tz": -330
    },
    "id": "Wi6eGE8HUOWH",
    "outputId": "fc230b8b-fa0c-41b2-c952-93d7d5b91988"
   },
   "outputs": [
    {
     "name": "stdout",
     "output_type": "stream",
     "text": [
      "50000\n",
      "cat\n",
      "(32, 32, 3)\n"
     ]
    },
    {
     "data": {
      "text/plain": [
       "<matplotlib.image.AxesImage at 0x7ff6e50fa8d0>"
      ]
     },
     "execution_count": 26,
     "metadata": {},
     "output_type": "execute_result"
    },
    {
     "data": {
      "image/png": "[encoded data removed]",
      "text/plain": [
       "<Figure size 432x288 with 1 Axes>"
      ]
     },
     "metadata": {
      "needs_background": "light"
     },
     "output_type": "display_data"
    }
   ],
   "source": [
    "print(len(trainset))\n",
    "im ,label = trainset[9]\n",
    "print(classes[label])\n",
    "im = im.numpy()\n",
    "im = np.transpose(im,(1,2,0))\n",
    "im = unormalize(im)\n",
    "print(im.shape)\n",
    "#unnormalize\n",
    "#im = 0.5*im + 0.5\n",
    "#im = cv2.resize(im,(0,0) , fx = 9,fy = 9)\n",
    "plt.imshow(im)\n"
   ]
  },
  {
   "cell_type": "code",
   "execution_count": 9,
   "metadata": {
    "colab": {
     "base_uri": "https://localhost:8080/",
     "height": 257
    },
    "executionInfo": {
     "elapsed": 930,
     "status": "ok",
     "timestamp": 1638839093939,
     "user": {
      "displayName": "Tathagato Roy",
      "photoUrl": "https://lh3.googleusercontent.com/a/default-user=s64",
      "userId": "06999756730187012596"
     },
     "user_tz": -330
    },
    "id": "EM5-zLiaNxqU",
    "outputId": "1354e197-b59e-478e-eceb-01dff841c6a3"
   },
   "outputs": [
    {
     "name": "stderr",
     "output_type": "stream",
     "text": [
      "Clipping input data to the valid range for imshow with RGB data ([0..1] for floats or [0..255] for integers).\n"
     ]
    },
    {
     "data": {
      "image/png": "[encoded data removed]",
      "text/plain": [
       "<Figure size 432x288 with 1 Axes>"
      ]
     },
     "metadata": {
      "needs_background": "light"
     },
     "output_type": "display_data"
    }
   ],
   "source": [
    "#data exploration\n",
    "#get random training data\n",
    "#some data exploration\n",
    "#helper function for that \n",
    "#pytorch has tensor in the format (channel,width,height) whereas numpy has it (width,height,channel)\n",
    "# So the transformation is (1,2,0) tells the correct format (width,height,channel)\n",
    "def imshow(img):\n",
    "  np_image = img.numpy()\n",
    "  #print(np_image.shape)\n",
    "  #fig = plt.figure(figsize = (30,30))\n",
    "  #fig.add_subplot(1,1,1)\n",
    "  plt.imshow(np.transpose(np_image,(1,2,0)))\n",
    "\n",
    "data_iter = iter(trainloader)\n",
    "images, labels = data_iter.next()\n",
    "#print(len(images))\n",
    "#print(images[0].shape)\n",
    "\n",
    "#show the images\n",
    "imshow(torchvision.utils.make_grid(images))\n",
    "#note that there are 32 images"
   ]
  },
  {
   "cell_type": "markdown",
   "metadata": {
    "id": "UvICVceiOzMA"
   },
   "source": [
    "CIFAR10 Contains 10 classes,60000 images ,each of size 32 x 32"
   ]
  },
  {
   "cell_type": "code",
   "execution_count": 10,
   "metadata": {
    "colab": {
     "base_uri": "https://localhost:8080/"
    },
    "executionInfo": {
     "elapsed": 439,
     "status": "ok",
     "timestamp": 1638839111309,
     "user": {
      "displayName": "Tathagato Roy",
      "photoUrl": "https://lh3.googleusercontent.com/a/default-user=s64",
      "userId": "06999756730187012596"
     },
     "user_tz": -330
    },
    "id": "3M7NIJKbOx37",
    "outputId": "06d1af49-81c1-477b-f6e9-2cf86562cb48"
   },
   "outputs": [
    {
     "name": "stdout",
     "output_type": "stream",
     "text": [
      "torch.Size([32, 3, 32, 32])\n"
     ]
    }
   ],
   "source": [
    "print(images.shape)"
   ]
  },
  {
   "cell_type": "code",
   "execution_count": 42,
   "metadata": {
    "colab": {
     "base_uri": "https://localhost:8080/"
    },
    "executionInfo": {
     "elapsed": 425,
     "status": "ok",
     "timestamp": 1638841622644,
     "user": {
      "displayName": "Tathagato Roy",
      "photoUrl": "https://lh3.googleusercontent.com/a/default-user=s64",
      "userId": "06999756730187012596"
     },
     "user_tz": -330
    },
    "id": "dFjGD0vzkc9s",
    "outputId": "4c05da84-0a7b-4aa0-d537-8669e2c58f3a"
   },
   "outputs": [
    {
     "name": "stdout",
     "output_type": "stream",
     "text": [
      "1407\n",
      "157\n"
     ]
    }
   ],
   "source": [
    "print(len(train_dataloader))\n",
    "print(len(valid_dataloader))"
   ]
  },
  {
   "cell_type": "code",
   "execution_count": 34,
   "metadata": {
    "executionInfo": {
     "elapsed": 8,
     "status": "ok",
     "timestamp": 1638841060742,
     "user": {
      "displayName": "Tathagato Roy",
      "photoUrl": "https://lh3.googleusercontent.com/a/default-user=s64",
      "userId": "06999756730187012596"
     },
     "user_tz": -330
    },
    "id": "rEMR2A-gPHC1"
   },
   "outputs": [],
   "source": [
    "#now the main part ,the code for the actual model\n",
    "# We use the VGG16 Architecture (Zisserman et al)\n",
    "class SMAI(nn.Module):\n",
    "  def __init__(self):\n",
    "    #not sure exactly how this works.Something to do with inheritance,\n",
    "    super(SMAI , self).__init__()\n",
    "\n",
    "    #we use default values of stride = 1\n",
    "    #and padding = 0\n",
    "    #our input is (3,32,32) C,H,W\n",
    "    #set out_channel as 64,so we get 32 kernels in the layer\n",
    "    # therefore output dimension are (64,32,32) C,H,W\n",
    "    #self.conv1 = nn.Conv2d(in_channels = 1,out_channels = 32 , kernel_size = 3)\n",
    "\n",
    "\n",
    "    #we want two linear layers\n",
    "    #first hidden layer\n",
    "    #self.d1 = nn.Linear(26*26*32,128)\n",
    "    \n",
    "    #ouput layer\n",
    "    # 10 is the output class\n",
    "    #self.d2 = nn.Linear(128,10)\n",
    "\n",
    "    #the sequential is a container\n",
    "    #takes an input \n",
    "    #chains the input - output to the next layer\n",
    "    #returns the final output\n",
    "    #input BATCH_SIZE * 1 * 28 * 28 for MNIST\n",
    "    #commenting out some of the maxpooling Blocks to make sure kernel spatial dimension reduces to 7*7 and not below\n",
    "    self.features = nn.Sequential(\n",
    "        \n",
    "        \n",
    "        \n",
    "        \n",
    "     \n",
    "\n",
    "      nn.Conv2d(3,16,3,padding = 1),\n",
    "      nn.ReLU(),\n",
    "      nn.MaxPool2d(2, stride = 2, return_indices = True) ,\n",
    "\n",
    "      #output 32,16,16,16\n",
    "\n",
    "    \n",
    "      nn.Conv2d(16,32,3,padding = 1),\n",
    "      nn.ReLU(),\n",
    "      nn.MaxPool2d(2, stride = 2, return_indices = True) ,\n",
    "\n",
    "     #output 32,32,8,8\n",
    "\n",
    "    \n",
    "      nn.Conv2d(32,32,3,padding = 1),\n",
    "      nn.ReLU()\n",
    "    \n",
    "    #output 32,32,8,8\n",
    "\n",
    "    \n",
    "\n",
    "\n",
    "\n",
    "        \n",
    "    )\n",
    "\n",
    "    self.classifier = nn.Sequential(\n",
    "\n",
    "        \n",
    "        nn.Linear(2048,128),\n",
    "        nn.Dropout(p=0.2),\n",
    "\n",
    "    # Linear layer with 10 output features\n",
    "        nn.Linear(128,10)\n",
    "\n",
    "    )\n",
    "\n",
    "    self.feature_maps = OrderedDict() #used to store all feature maps\n",
    "    self.max_pooling_locations = OrderedDict() #used to store the location of the values from max pools\n",
    "    self.Convolution_layers_indices = [0,3,6]\n",
    "    self.Relu_layers_indices = [1,4,7]\n",
    "    self.pooling_layers_indices = [2,5]\n",
    "    \n",
    "  \n",
    "  #a function to initialise with a pretrained model\n",
    "  #has to have the same architecture as the one define above\n",
    "  #must be compatible with above defined structure of features and classifier\n",
    "  def initialise_weights(self,model):\n",
    "    #copy the parameter values for features\n",
    "    for index,layer in enumerate(model.features):\n",
    "      #only relevant for learnable parameters,not for Pooling,Relu etc\n",
    "      if isinstance(layer,nn.conv2d):\n",
    "        self.features[index].weight.data = layer.weight.data\n",
    "        self.features[index].bias.data = layer.bias.data\n",
    "    #copy the parameter values for classifier\n",
    "    for index,layer in enumerate(model.classifier):\n",
    "      #only relevant for FC Linear parameters\n",
    "      if isinstance(layer,nn.Linear):\n",
    "        self.classifier[index].weight.data = layer.weight.data\n",
    "        self.classifier[index].bias.data = layer.bias.data\n",
    "\n",
    "  #function for forward propagation\n",
    "  def forward(self,x):\n",
    "    #neccessary for storing the max pool location for inverse pooling\n",
    "    for index,layer in enumerate(self.features):\n",
    "      if isinstance(layer,nn.MaxPool2d):\n",
    "        x, locs = layer(x)\n",
    "      else:\n",
    "        x = layer(x)\n",
    "    #converts a (N,C,H,W) input to (N,C*H*W)\n",
    "    x = x.view(x.size()[0],-1)\n",
    "    output = self.classifier(x)\n",
    "    output = torch.nn.functional.softmax(output,dim = 1)\n",
    "    return output\n",
    "\n"
   ]
  },
  {
   "cell_type": "code",
   "execution_count": null,
   "metadata": {
    "colab": {
     "base_uri": "https://localhost:8080/"
    },
    "executionInfo": {
     "elapsed": 444,
     "status": "ok",
     "timestamp": 1638822632767,
     "user": {
      "displayName": "Tathagato Roy",
      "photoUrl": "https://lh3.googleusercontent.com/a/default-user=s64",
      "userId": "06999756730187012596"
     },
     "user_tz": -330
    },
    "id": "_FlUDuQ1qwuR",
    "outputId": "29e4bea8-3d86-469d-8337-e70c9519879b"
   },
   "outputs": [
    {
     "name": "stdout",
     "output_type": "stream",
     "text": [
      "\u001b[0m\u001b[01;34mdata\u001b[0m/  \u001b[01;34mdrive\u001b[0m/  \u001b[01;34msample_data\u001b[0m/\n"
     ]
    }
   ],
   "source": [
    "%ls"
   ]
  },
  {
   "cell_type": "markdown",
   "metadata": {
    "id": "jVqHYhpJwOsw"
   },
   "source": [
    "[link text](https://)"
   ]
  },
  {
   "cell_type": "code",
   "execution_count": 29,
   "metadata": {
    "executionInfo": {
     "elapsed": 646,
     "status": "ok",
     "timestamp": 1638840927696,
     "user": {
      "displayName": "Tathagato Roy",
      "photoUrl": "https://lh3.googleusercontent.com/a/default-user=s64",
      "userId": "06999756730187012596"
     },
     "user_tz": -330
    },
    "id": "uopVmR516Lzb"
   },
   "outputs": [],
   "source": [
    "ep = [0,5,10,15,19,25]"
   ]
  },
  {
   "cell_type": "code",
   "execution_count": 61,
   "metadata": {
    "executionInfo": {
     "elapsed": 446,
     "status": "ok",
     "timestamp": 1638842814916,
     "user": {
      "displayName": "Tathagato Roy",
      "photoUrl": "https://lh3.googleusercontent.com/a/default-user=s64",
      "userId": "06999756730187012596"
     },
     "user_tz": -330
    },
    "id": "vvv3SfREfwXK"
   },
   "outputs": [],
   "source": [
    "def train(model, device, train_dataloader, optimizer, criterion):\n",
    "  \"\"\"trains for one epoch\"\"\"\n",
    "  \n",
    "  model.train()\n",
    "  accumulated_loss = 0.0\n",
    "  device = torch.device(\"cuda:0\" if torch.cuda.is_available() else \"cpu\")\n",
    "\n",
    "  model.to(device)\n",
    "  for i,data in enumerate(train_dataloader):\n",
    "    (inputs, labels) = data\n",
    "    device = torch.device(\"cuda:0\" if torch.cuda.is_available() else \"cpu\")\n",
    "    inputs = inputs.to(device)\n",
    "    labels = labels.to(device)\n",
    "    #print(images.shape)\n",
    "    #forward pass \n",
    "    logits = model(inputs)\n",
    "\n",
    "    #compute Cross Entropy Loss\n",
    "    loss = criterion(logits,labels)\n",
    "\n",
    "    #set the gradients to zero\n",
    "    optimizer.zero_grad()\n",
    "\n",
    "    #back prop\n",
    "    loss.backward()\n",
    "\n",
    "    #update model parameter\n",
    "    optimizer.step()\n",
    "    #print(\"Progress : {0} / {1} : {2}\".format(i + 1,len(train_dataloader),(i + 1)/len(train_dataloader)))\n",
    "\n",
    "    # YOUR CODE BEGINS HERE\n",
    "    # 1. zero existing gradients\n",
    "    # 2. forward the inputs\n",
    "    # 3. compute the loss\n",
    "    # 4. backprop the loss\n",
    "    # 5. update the weights\n",
    "\n",
    "    # YOUR CODE ENDS HERE\n",
    "\n",
    "    accumulated_loss += loss.item()\n",
    "  return torch.div(accumulated_loss , len(train_dataloader))\n",
    "\n",
    "def test(model, device, dataloader, criterion):\n",
    "  model.eval()\n",
    "  accumulated_loss = 0.0\n",
    "  correct = 0\n",
    "  with torch.no_grad():\n",
    "    for data in dataloader:\n",
    "      (inputs, labels) = data\n",
    "      inputs = inputs.to(device)\n",
    "      labels = labels.to(device)\n",
    "\n",
    "      # YOUR CODE BEGINS HERE\n",
    "      # 1. forward the inputs\n",
    "      # 2. compute the loss\n",
    "      outputs = model(inputs)\n",
    "      loss = criterion(outputs, labels)\n",
    "      # YOUR CODE ENDS HERE\n",
    "\n",
    "      \n",
    "      accumulated_loss += loss.item()\n",
    "\n",
    "      predictions = outputs.argmax(dim=1)\n",
    "      correct += (predictions == labels).sum()\n",
    "\n",
    "    num_samples = len(dataloader)\n",
    "    avg_loss = accumulated_loss / num_samples\n",
    "    accuracy = np.float(correct) / 5000\n",
    "    print(\"Average Loss : {0}\".format(avg_loss))\n",
    "    print(\"Correct : {0} , number_of_samples : {1} and accuracy : {2}\".format(correct,5000,accuracy))\n",
    "    return avg_loss, accuracy\n",
    "    "
   ]
  },
  {
   "cell_type": "code",
   "execution_count": 63,
   "metadata": {
    "colab": {
     "base_uri": "https://localhost:8080/"
    },
    "executionInfo": {
     "elapsed": 318867,
     "status": "ok",
     "timestamp": 1638843229013,
     "user": {
      "displayName": "Tathagato Roy",
      "photoUrl": "https://lh3.googleusercontent.com/a/default-user=s64",
      "userId": "06999756730187012596"
     },
     "user_tz": -330
    },
    "id": "YgbiU4b6f8XM",
    "outputId": "1f2ba3ee-6941-41fb-9ec3-1f244d3953bb"
   },
   "outputs": [
    {
     "name": "stdout",
     "output_type": "stream",
     "text": [
      "Epoch : 0\n",
      "Average Loss : 2.290065845866112\n",
      "Correct : 527 , number_of_samples : 5000 and accuracy : 0.1054\n",
      "Saving model for epoch:0\n",
      "[1] training loss: 2.30\n",
      "[1] validation loss: 2.29, validation accuracy: 10.54%\n",
      "\n",
      "Epoch : 1\n",
      "Average Loss : 2.1611265809672653\n",
      "Correct : 1454 , number_of_samples : 5000 and accuracy : 0.2908\n",
      "[2] training loss: 2.23\n",
      "[2] validation loss: 2.16, validation accuracy: 29.08%\n",
      "\n",
      "Epoch : 2\n",
      "Average Loss : 2.1038005169789504\n",
      "Correct : 1765 , number_of_samples : 5000 and accuracy : 0.353\n",
      "[3] training loss: 2.13\n",
      "[3] validation loss: 2.10, validation accuracy: 35.30%\n",
      "\n",
      "Epoch : 3\n",
      "Average Loss : 2.071325467650298\n",
      "Correct : 1937 , number_of_samples : 5000 and accuracy : 0.3874\n",
      "[4] training loss: 2.09\n",
      "[4] validation loss: 2.07, validation accuracy: 38.74%\n",
      "\n",
      "Epoch : 4\n",
      "Average Loss : 2.050266886972318\n",
      "Correct : 2041 , number_of_samples : 5000 and accuracy : 0.4082\n",
      "[5] training loss: 2.05\n",
      "[5] validation loss: 2.05, validation accuracy: 40.82%\n",
      "\n",
      "Epoch : 5\n",
      "Average Loss : 2.038565300072834\n",
      "Correct : 2101 , number_of_samples : 5000 and accuracy : 0.4202\n",
      "Saving model for epoch:5\n",
      "[6] training loss: 2.03\n",
      "[6] validation loss: 2.04, validation accuracy: 42.02%\n",
      "\n",
      "Epoch : 6\n",
      "Average Loss : 2.0202993549359074\n",
      "Correct : 2186 , number_of_samples : 5000 and accuracy : 0.4372\n",
      "[7] training loss: 2.02\n",
      "[7] validation loss: 2.02, validation accuracy: 43.72%\n",
      "\n",
      "Epoch : 7\n",
      "Average Loss : 1.9993149626786542\n",
      "Correct : 2313 , number_of_samples : 5000 and accuracy : 0.4626\n",
      "[8] training loss: 2.01\n",
      "[8] validation loss: 2.00, validation accuracy: 46.26%\n",
      "\n",
      "Epoch : 8\n",
      "Average Loss : 1.9823719627538305\n",
      "Correct : 2387 , number_of_samples : 5000 and accuracy : 0.4774\n",
      "[9] training loss: 1.99\n",
      "[9] validation loss: 1.98, validation accuracy: 47.74%\n",
      "\n",
      "Epoch : 9\n",
      "Average Loss : 1.9767258258382225\n",
      "Correct : 2408 , number_of_samples : 5000 and accuracy : 0.4816\n",
      "[10] training loss: 1.98\n",
      "[10] validation loss: 1.98, validation accuracy: 48.16%\n",
      "\n",
      "Epoch : 10\n",
      "Average Loss : 1.9646028895286998\n",
      "Correct : 2474 , number_of_samples : 5000 and accuracy : 0.4948\n",
      "Saving model for epoch:10\n",
      "[11] training loss: 1.97\n",
      "[11] validation loss: 1.96, validation accuracy: 49.48%\n",
      "\n",
      "Epoch : 11\n",
      "Average Loss : 1.9657140696883961\n",
      "Correct : 2469 , number_of_samples : 5000 and accuracy : 0.4938\n",
      "[12] training loss: 1.96\n",
      "[12] validation loss: 1.97, validation accuracy: 49.38%\n",
      "\n",
      "Epoch : 12\n",
      "Average Loss : 1.9543489999831862\n",
      "Correct : 2544 , number_of_samples : 5000 and accuracy : 0.5088\n",
      "[13] training loss: 1.95\n",
      "[13] validation loss: 1.95, validation accuracy: 50.88%\n",
      "\n",
      "Epoch : 13\n",
      "Average Loss : 1.9258476647601765\n",
      "Correct : 2686 , number_of_samples : 5000 and accuracy : 0.5372\n",
      "[14] training loss: 1.94\n",
      "[14] validation loss: 1.93, validation accuracy: 53.72%\n",
      "\n",
      "Epoch : 14\n",
      "Average Loss : 1.9122556151857801\n",
      "Correct : 2747 , number_of_samples : 5000 and accuracy : 0.5494\n",
      "[15] training loss: 1.93\n",
      "[15] validation loss: 1.91, validation accuracy: 54.94%\n",
      "\n",
      "Epoch : 15\n",
      "Average Loss : 1.8996123227344197\n",
      "Correct : 2808 , number_of_samples : 5000 and accuracy : 0.5616\n",
      "Saving model for epoch:15\n",
      "[16] training loss: 1.91\n",
      "[16] validation loss: 1.90, validation accuracy: 56.16%\n",
      "\n",
      "Epoch : 16\n",
      "Average Loss : 1.892935955600374\n",
      "Correct : 2857 , number_of_samples : 5000 and accuracy : 0.5714\n",
      "[17] training loss: 1.90\n",
      "[17] validation loss: 1.89, validation accuracy: 57.14%\n",
      "\n",
      "Epoch : 17\n",
      "Average Loss : 1.8839196012278272\n",
      "Correct : 2880 , number_of_samples : 5000 and accuracy : 0.576\n",
      "[18] training loss: 1.89\n",
      "[18] validation loss: 1.88, validation accuracy: 57.60%\n",
      "\n",
      "Epoch : 18\n",
      "Average Loss : 1.880731458117248\n",
      "Correct : 2895 , number_of_samples : 5000 and accuracy : 0.579\n",
      "[19] training loss: 1.88\n",
      "[19] validation loss: 1.88, validation accuracy: 57.90%\n",
      "\n",
      "Epoch : 19\n",
      "Average Loss : 1.8747966236369624\n",
      "Correct : 2937 , number_of_samples : 5000 and accuracy : 0.5874\n",
      "Saving model for epoch:19\n",
      "[20] training loss: 1.87\n",
      "[20] validation loss: 1.87, validation accuracy: 58.74%\n",
      "\n",
      "Epoch : 20\n",
      "Average Loss : 1.8664042106859244\n",
      "Correct : 2968 , number_of_samples : 5000 and accuracy : 0.5936\n",
      "[21] training loss: 1.86\n",
      "[21] validation loss: 1.87, validation accuracy: 59.36%\n",
      "\n",
      "Epoch : 21\n",
      "Average Loss : 1.8541850831098616\n",
      "Correct : 3032 , number_of_samples : 5000 and accuracy : 0.6064\n",
      "[22] training loss: 1.85\n",
      "[22] validation loss: 1.85, validation accuracy: 60.64%\n",
      "\n",
      "Epoch : 22\n",
      "Average Loss : 1.8547841879972227\n",
      "Correct : 3032 , number_of_samples : 5000 and accuracy : 0.6064\n",
      "[23] training loss: 1.84\n",
      "[23] validation loss: 1.85, validation accuracy: 60.64%\n",
      "\n",
      "Epoch : 23\n",
      "Average Loss : 1.848106374406511\n",
      "Correct : 3079 , number_of_samples : 5000 and accuracy : 0.6158\n",
      "[24] training loss: 1.84\n",
      "[24] validation loss: 1.85, validation accuracy: 61.58%\n",
      "\n",
      "Epoch : 24\n",
      "Average Loss : 1.840094945992634\n",
      "Correct : 3106 , number_of_samples : 5000 and accuracy : 0.6212\n",
      "[25] training loss: 1.83\n",
      "[25] validation loss: 1.84, validation accuracy: 62.12%\n",
      "\n",
      "Epoch : 25\n",
      "Average Loss : 1.8436142335272139\n",
      "Correct : 3085 , number_of_samples : 5000 and accuracy : 0.617\n",
      "Saving model for epoch:25\n",
      "[26] training loss: 1.82\n",
      "[26] validation loss: 1.84, validation accuracy: 61.70%\n",
      "\n",
      "Epoch : 26\n",
      "Average Loss : 1.8265845236504914\n",
      "Correct : 3158 , number_of_samples : 5000 and accuracy : 0.6316\n",
      "[27] training loss: 1.82\n",
      "[27] validation loss: 1.83, validation accuracy: 63.16%\n",
      "\n",
      "Epoch : 27\n",
      "Average Loss : 1.8254482882797338\n",
      "Correct : 3202 , number_of_samples : 5000 and accuracy : 0.6404\n",
      "[28] training loss: 1.81\n",
      "[28] validation loss: 1.83, validation accuracy: 64.04%\n",
      "\n",
      "Epoch : 28\n",
      "Average Loss : 1.8265097361461373\n",
      "Correct : 3160 , number_of_samples : 5000 and accuracy : 0.632\n",
      "[29] training loss: 1.80\n",
      "[29] validation loss: 1.83, validation accuracy: 63.20%\n",
      "\n",
      "Epoch : 29\n",
      "Average Loss : 1.8154441923092886\n",
      "Correct : 3223 , number_of_samples : 5000 and accuracy : 0.6446\n",
      "[30] training loss: 1.80\n",
      "[30] validation loss: 1.82, validation accuracy: 64.46%\n",
      "\n"
     ]
    }
   ],
   "source": [
    "model = SMAI().to(device) # resets parameters\n",
    "\n",
    "# YOUR CODE BEGINS HERE\n",
    "# use CrossEntropyLoss\n",
    "# use SGD with a lr=0.001 and momentum=0.9\n",
    "criterion = nn.CrossEntropyLoss()\n",
    "optimizer = torch.optim.SGD(model.parameters(), lr=0.001, momentum=0.9)\n",
    "# YOUR CODE ENDS HERE\n",
    "\n",
    "best_val_loss = np.Inf\n",
    "loss_history = { \"train\" : [], \"validation\" : []}\n",
    "for epoch in range(30):\n",
    "  print(\"Epoch : {0}\".format(epoch))\n",
    "  train_loss = train(model, device, train_dataloader, optimizer, criterion)  \n",
    "  loss_history[\"train\"].append(train_loss)\n",
    "\n",
    "  val_loss, val_acc = test(model, device, valid_dataloader, criterion)\n",
    "  loss_history[\"validation\"].append(val_loss)\n",
    "\n",
    "  if epoch in ep:\n",
    "    print(\"Saving model for epoch:{0}\".format(epoch))\n",
    "    filename = \"./drive/MyDrive/Models/SMAI_MODEL_EPOCH_\" + str(epoch + 1) + \".pth\"\n",
    "    torch.save(model.state_dict(), filename)\n",
    "    \n",
    "\n",
    "  print(\"[%d] training loss: %.2f\" % (epoch + 1,train_loss))\n",
    "  print(\"[%d] validation loss: %.2f, validation accuracy: %.2f%%\" % (epoch + 1, val_loss, val_acc * 100))\n",
    "  print()"
   ]
  },
  {
   "cell_type": "code",
   "execution_count": 20,
   "metadata": {
    "executionInfo": {
     "elapsed": 4,
     "status": "ok",
     "timestamp": 1638840112922,
     "user": {
      "displayName": "Tathagato Roy",
      "photoUrl": "https://lh3.googleusercontent.com/a/default-user=s64",
      "userId": "06999756730187012596"
     },
     "user_tz": -330
    },
    "id": "8-qQXhLAoD5x"
   },
   "outputs": [],
   "source": [
    "#this is the twin Deconvnet of the above VGG16 called Roy Net\n",
    "class SMAI_Deconv(nn.Module) :\n",
    "  def __init__(self):\n",
    "        super(VGG16_Deconv, self).__init__()\n",
    "        self.features = nn.Sequential(\n",
    "          \n",
    "\n",
    "          nn.ReLU(),\n",
    "          nn.ConvTranspose2d(32, 32, 3, padding = 1),\n",
    "\n",
    "          nn.MaxUnpool2d(2, stride = 2),\n",
    "          nn.ReLU(),\n",
    "          nn.ConvTranspose2d(32, 16, 3, padding = 1),\n",
    "\n",
    "          nn.MaxUnpool2d(2, stride = 2),\n",
    "          nn.ReLU(),\n",
    "          nn.ConvTranspose2d(16, 3, 3, padding = 1),\n",
    "          \n",
    "\n",
    "\n",
    "        )\n",
    "        \n",
    "        #this maps the indices of the layer of in conv net architecture with the deconvnet architecture\n",
    "        #{forward_ind : backward_ind}\n",
    "        self.conv_deconv_layer_index_mapping = {0:7 , 3:4 , 6:1}\n",
    "        #this maps the bias of the conv layer with the deconv layer.For some reason this does not \n",
    "        #perfectly allign with above transformation because the first backward layer is randomly set\n",
    "        #{forward_ind : backward_ind}\n",
    "        self.conv_deconv_layer_bias_index_mapping = {0:4,3:1}\n",
    "\n",
    "        #this maps the forward and backward relu layer\n",
    "        #{forward_ind : backward_ind}\n",
    "        self.relu_relu_layer_index_mapping = {1:6 , 4:3 , 7:0}\n",
    "\n",
    "        #this maps the forward maxpool layer index to the backward maxunpool netword\n",
    "        #{backward_ind : forward}\n",
    "        self.unmaxpool_maxpool_layer_index_mapping = {5:2, 2:5}\n",
    "\n",
    "  #this updates the parameters of the deconv model from the passed parameter which is the forward model\n",
    "  def update_weights(self, model):\n",
    "\n",
    "    #update the paramters\n",
    "    for index,layer in enumerate(model.features):\n",
    "      if isinstance(layer,nn.Conv2d):\n",
    "        self.features[self.conv_deconv_layer_index_mapping[index]].weight.data = layer.weight.data\n",
    "        if index in self.conv_deconv_layer_bias_index_mapping:\n",
    "          self.features[self.conv_deconv_layer_bias_index_mapping[index]].bias.data = layer.bias.data\n",
    "          #print(\"do\")\n",
    "  #forward pass to obtain the inverse image\n",
    "  #pool locs is useful for maxunpooling\n",
    "  #layer is the index of the layer from which x is passed(I think)\n",
    "  #I am not too sure\n",
    "  #The input layer should be a RELU or CONV\n",
    "  #Not sure why Maxpooling layer not allowed\n",
    "  def forward(self, x , layer  , pool_locs):\n",
    "    #print(\"Forward\")\n",
    "    if layer in self.conv_deconv_layer_index_mapping:\n",
    "      start_index = self.conv_deconv_layer_index_mapping[layer]\n",
    "    elif layer in self.relu_relu_layer_index_mapping:\n",
    "      start_index = self.relu_relu_layer_index_mapping[layer]\n",
    "    else:\n",
    "      print(\"The given layer is not RELU or Conv,exiting\")\n",
    "      #sys.exit(0)\n",
    "    \n",
    "    for index in range(start_index,len(self.features)):\n",
    "      if isinstance(self.features[index] , nn.MaxUnpool2d):\n",
    "        print(\"Unpool\")\n",
    "        x = self.features[index](x,pool_locs[self.unmaxpool_maxpool_layer_index_mapping[index]])\n",
    "      else:\n",
    "        if isinstance(self.features[index],nn.ConvTranspose2d):\n",
    "          print(\"Transpose\")\n",
    "        if isinstance(self.features[index],nn.ReLU):\n",
    "          print(\"RElu\")\n",
    "        x = self.features[index](x)\n",
    "    return x\n",
    "\n",
    "    \n",
    "\n",
    "\n",
    "\n",
    "\n",
    "\n"
   ]
  },
  {
   "cell_type": "code",
   "execution_count": 21,
   "metadata": {
    "executionInfo": {
     "elapsed": 466,
     "status": "ok",
     "timestamp": 1638840120993,
     "user": {
      "displayName": "Tathagato Roy",
      "photoUrl": "https://lh3.googleusercontent.com/a/default-user=s64",
      "userId": "06999756730187012596"
     },
     "user_tz": -330
    },
    "id": "3B-tiin40fOj"
   },
   "outputs": [],
   "source": [
    "#Function to visualize a feature map in a grid\n",
    "#feature map is the shape (C,W,H,N)\n",
    "#this part is I dont understand that well\n",
    "#utility function for visualization\n",
    "def visualize_feature_map(feature_map):\n",
    "  (C,W,H,N) = feature_map.shape\n",
    "  cnt = int(ceil(sqrt(C)))\n",
    "  G = np.ones((cnt*H + cnt,cnt*W + cnt,N),feature_map.dtype)#the extra cnt is for black colored spacing\n",
    "  G *= np.min(feature_map)\n",
    "\n",
    "  n = 0\n",
    "  for row in range(cnt):\n",
    "    for col in range(cnt):\n",
    "      if n < C:\n",
    "        #additional cnt for spacing\n",
    "        G[row*H + row : (row + 1)*H + row, col*W + col : (col + 1)*W + col,:] = feature_map[n,:,:,:]\n",
    "        n += 1\n",
    "\n",
    "  #Normalize G\n",
    "  G = (G - G.min())/(G.max() - G.min())\n",
    "  return G\n",
    "\n",
    "\n",
    "#function to visualize a layer represented by a grid\n",
    "#again do not understand this part much\n",
    "def visualize_layer(feature_layer_grid):\n",
    "  plt.clf() #clears figure\n",
    "  plt.subplot(121)\n",
    "  plt.imshow(feature_layer_grid[:,:,0],cmap = 'gray')\n",
    "\n",
    "\n",
    "#transform a deconvolutional image to a normal one(Also normalize)\n",
    "#input is the output of the deconvolated image\n",
    "def transform_deconvolved_image(output) :\n",
    "  d_img = output.data.numpy()[0].transpose(1,2,0) #gets it to (H,W,C) format\n",
    "  d_img = (d_img - d_img.min())/(d_img.max() - d_img.min()) #normalize\n",
    "  return d_img.astype(np.uint8)\n",
    "\n",
    "\n",
    "#function to store all the feature maps and max_pooling locations\n",
    "def store_all_feature_maps(model):\n",
    "  #this is a function that is to be passed to another function\n",
    "  #It will be called everytime forward is called on model\n",
    "  def hook(module,input,output,key):\n",
    "    if isinstance(module,nn.MaxPool2d):\n",
    "      #remember the maxpool layer returns two values x,loc because return_indices is set to true\n",
    "      model.feature_maps[key] = output[0] #stores the feature map to the ordereddict\n",
    "      model.max_pooling_locations[key] = output[1] #stores the location\n",
    "    else:\n",
    "      model.feature_maps[key] = output\n",
    "  for index,layer in enumerate(model._modules.get('features')):  \n",
    "    #register forward hook makes the hook to be called whenever forward is called\n",
    "    #partial allows hook to be called hook(module,input,output,key = index)\n",
    "    layer.register_forward_hook(partial(hook,key = index))\n",
    "\n",
    "  \n"
   ]
  },
  {
   "cell_type": "code",
   "execution_count": null,
   "metadata": {
    "id": "f7Rguog7O8X_"
   },
   "outputs": [],
   "source": []
  }
 ],
 "metadata": {
  "accelerator": "GPU",
  "colab": {
   "authorship_tag": "ABX9TyMY2X/yg9cxm0YeudussItA",
   "name": "SmallFeatureEvolutionFinal",
   "provenance": [
    {
     "file_id": "1-ZqYj3yhKiNPRs5JsMV80zBN-ygTDw8Y",
     "timestamp": 1638838248966
    }
   ]
  },
  "kernelspec": {
   "display_name": "Python 3",
   "language": "python",
   "name": "python3"
  },
  "language_info": {
   "codemirror_mode": {
    "name": "ipython",
    "version": 3
   },
   "file_extension": ".py",
   "mimetype": "text/x-python",
   "name": "python",
   "nbconvert_exporter": "python",
   "pygments_lexer": "ipython3",
   "version": "3.9.4"
  }
 },
 "nbformat": 4,
 "nbformat_minor": 1
}
